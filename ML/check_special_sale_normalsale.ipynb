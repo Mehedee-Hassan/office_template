{
 "cells": [
  {
   "cell_type": "code",
   "execution_count": 247,
   "metadata": {
    "ExecuteTime": {
     "end_time": "2020-12-18T02:56:31.076429Z",
     "start_time": "2020-12-18T02:56:31.056484Z"
    }
   },
   "outputs": [],
   "source": [
    "import sys\n",
    "import os\n",
    "import psycopg2\n",
    "import math\n",
    "\n",
    "from catboost import CatBoostRegressor\n",
    "\n",
    "    \n",
    "import pandas as pd\n",
    "\n",
    "import sys\n",
    "import pandas as pd\n",
    "import numpy as np\n",
    "import datetime as dt\n",
    "from datetime import datetime as dtdt\n",
    "import seaborn as sns\n",
    "import xgboost as xgb\n",
    "from xgboost import plot_importance, plot_tree\n",
    "from sklearn.metrics import mean_squared_error, mean_absolute_error\n",
    "import matplotlib.pyplot as plt\n",
    "import math\n",
    "from sklearn.model_selection import GridSearchCV"
   ]
  },
  {
   "cell_type": "code",
   "execution_count": 248,
   "metadata": {
    "ExecuteTime": {
     "end_time": "2020-12-18T02:56:31.288877Z",
     "start_time": "2020-12-18T02:56:31.280895Z"
    }
   },
   "outputs": [],
   "source": [
    "product_id = '0021000615506'\n",
    "shop_id = '013'"
   ]
  },
  {
   "cell_type": "code",
   "execution_count": 249,
   "metadata": {
    "ExecuteTime": {
     "end_time": "2020-12-18T02:56:31.502303Z",
     "start_time": "2020-12-18T02:56:31.487343Z"
    }
   },
   "outputs": [],
   "source": [
    "def get_TENPOURIAGE_TANPINNIKKEI_COMBINED_ALLDAY(product_id=\"\",shop_id='',DEBUG=False):\n",
    "    temppo_code = shop_id\n",
    "    shouhin_code = product_id\n",
    "\n",
    "    TENPOURIAGE_TANPINNIKKEI_COMBINED_ALLDAY = \"\"\"\n",
    "    WITH\n",
    "        prodcut_id AS (VALUES ('{0}')),\n",
    "        store_id AS (VALUES ('{1}'))\n",
    "\n",
    "    select to_date(売上日,'YYYYMMDD') as 売上日 , 売上点数\n",
    "        from 店舗売上単品日計_201112\n",
    "\n",
    "    where 店舗コード=(table store_id)\n",
    "    and 商品コード=(table prodcut_id)\n",
    "\n",
    "    UNION ALL\n",
    "\n",
    "    select to_date(売上日,'YYYYMMDD') as 売上日 , 売上点数\n",
    "        from 店舗売上単品日計_200710_dtaka\n",
    "\n",
    "    where 店舗コード=(table store_id)\n",
    "    and 商品コード=(table prodcut_id)\n",
    "    and 売上日 < (select 売上日 from 店舗売上単品日計_201112 where 店舗コード=(table store_id) and 商品コード=(table prodcut_id) order by 売上日 asc limit 1)\n",
    "\n",
    "\n",
    "    order by 売上日 asc , 売上点数\n",
    "\n",
    "    \"\"\".format(shouhin_code,temppo_code)\n",
    "\n",
    "    if DEBUG == True:\n",
    "            print (\"DEBUG # product sale count from multiple table :\",TENPOURIAGE_TANPINNIKKEI_COMBINED_ALLDAY)\n",
    "\n",
    "    return TENPOURIAGE_TANPINNIKKEI_COMBINED_ALLDAY\n"
   ]
  },
  {
   "cell_type": "code",
   "execution_count": 250,
   "metadata": {
    "ExecuteTime": {
     "end_time": "2020-12-18T02:56:31.658886Z",
     "start_time": "2020-12-18T02:56:31.650907Z"
    }
   },
   "outputs": [],
   "source": [
    "# print(get_TENPOURIAGE_TANPINNIKKEI_COMBINED_ALLDAY(product_id=\"4901002148935\",shop_id='013'))"
   ]
  },
  {
   "cell_type": "code",
   "execution_count": 251,
   "metadata": {
    "ExecuteTime": {
     "end_time": "2020-12-18T02:56:31.877300Z",
     "start_time": "2020-12-18T02:56:31.848378Z"
    }
   },
   "outputs": [],
   "source": [
    "import sys\n",
    "import psycopg2\n",
    "import pandas as pd\n",
    "\n",
    "\n",
    "product_list =[]\n",
    "DEBUG = True\n",
    "\n",
    "\n",
    "\n",
    "\n",
    "def connectProductSale(product_list  = None,_path=None,shop_id = ''):\n",
    "    mydataframe = pd.DataFrame()\n",
    "    for product_id in product_list:\n",
    "        conn = None\n",
    " \n",
    "\n",
    "        try:\n",
    "            if DEBUG ==True:\n",
    "                print('Connecting to PostgreSql database...')\n",
    "\n",
    "\n",
    "            conn = psycopg2.connect(host='172.16.3.28' ,dbname=\"920088\", user=\"kenpin\", password=\"kenpin\")\n",
    "            \n",
    "            \n",
    "            cur = conn.cursor()\n",
    "\n",
    "\n",
    "            if DEBUG ==True:\n",
    "                print('PostgreSQL database vestion:')\n",
    "\n",
    "\n",
    "            cur.execute(get_TENPOURIAGE_TANPINNIKKEI_COMBINED_ALLDAY(product_id,shop_id))\n",
    "            data = cur.fetchone()\n",
    "\n",
    "            strline = \"\"\n",
    "            while data is not None:\n",
    "                \n",
    "                new_row = {'date':data[0],'count':data[1]}\n",
    "                mydataframe = mydataframe.append(new_row, ignore_index=True)\n",
    "                \n",
    "                data = cur.fetchone()\n",
    "\n",
    "            cur.close()\n",
    "            writefile.close()\n",
    "\n",
    "\n",
    "        except (Exception ,psycopg2.DatabaseError) as error:\n",
    "            print(error)\n",
    "        finally:\n",
    "            if conn is not None:\n",
    "                conn.close()\n",
    "\n",
    "                print('DB CLOSED')\n",
    "                \n",
    "        return mydataframe"
   ]
  },
  {
   "cell_type": "code",
   "execution_count": 252,
   "metadata": {
    "ExecuteTime": {
     "end_time": "2020-12-18T02:56:36.507917Z",
     "start_time": "2020-12-18T02:56:32.032884Z"
    }
   },
   "outputs": [
    {
     "name": "stdout",
     "output_type": "stream",
     "text": [
      "Connecting to PostgreSql database...\n",
      "PostgreSQL database vestion:\n",
      "name 'writefile' is not defined\n",
      "DB CLOSED\n"
     ]
    }
   ],
   "source": [
    "dd = connectProductSale(product_list  = [product_id],_path=None,shop_id = shop_id)"
   ]
  },
  {
   "cell_type": "code",
   "execution_count": 253,
   "metadata": {
    "ExecuteTime": {
     "end_time": "2020-12-18T02:56:37.310985Z",
     "start_time": "2020-12-18T02:56:37.302011Z"
    }
   },
   "outputs": [],
   "source": [
    "\n",
    "\n",
    "df = dd.copy()"
   ]
  },
  {
   "cell_type": "code",
   "execution_count": 254,
   "metadata": {
    "ExecuteTime": {
     "end_time": "2020-12-18T02:56:38.152485Z",
     "start_time": "2020-12-18T02:56:38.142512Z"
    }
   },
   "outputs": [],
   "source": [
    "dd = dd.set_index('date')"
   ]
  },
  {
   "cell_type": "code",
   "execution_count": 255,
   "metadata": {
    "ExecuteTime": {
     "end_time": "2020-12-18T02:56:38.657159Z",
     "start_time": "2020-12-18T02:56:38.641202Z"
    }
   },
   "outputs": [
    {
     "data": {
      "text/plain": [
       "Index([2016-04-29, 2016-05-01, 2016-05-04, 2016-05-06, 2016-05-12, 2016-05-15,\n",
       "       2016-05-16, 2016-05-18, 2016-05-19, 2016-05-21,\n",
       "       ...\n",
       "       2020-10-06, 2020-10-10, 2020-10-11, 2020-10-17, 2020-10-18, 2020-10-19,\n",
       "       2020-10-20, 2020-10-24, 2020-10-29, 2020-11-11],\n",
       "      dtype='object', name='date', length=532)"
      ]
     },
     "execution_count": 255,
     "metadata": {},
     "output_type": "execute_result"
    }
   ],
   "source": [
    "dd.index "
   ]
  },
  {
   "cell_type": "code",
   "execution_count": 256,
   "metadata": {
    "ExecuteTime": {
     "end_time": "2020-12-18T02:56:39.844625Z",
     "start_time": "2020-12-18T02:56:39.833654Z"
    }
   },
   "outputs": [],
   "source": [
    "df [ 'date'] =pd.to_datetime(df['date'])"
   ]
  },
  {
   "cell_type": "code",
   "execution_count": 257,
   "metadata": {
    "ExecuteTime": {
     "end_time": "2020-12-18T02:56:40.740732Z",
     "start_time": "2020-12-18T02:56:40.729762Z"
    }
   },
   "outputs": [],
   "source": [
    "df2 = df[df['date'] >='2017-05-01']"
   ]
  },
  {
   "cell_type": "code",
   "execution_count": 258,
   "metadata": {
    "ExecuteTime": {
     "end_time": "2020-12-18T02:56:40.985078Z",
     "start_time": "2020-12-18T02:56:40.973110Z"
    }
   },
   "outputs": [],
   "source": [
    "df2=df2[df2['date']<='2020-08-01']"
   ]
  },
  {
   "cell_type": "code",
   "execution_count": 259,
   "metadata": {
    "ExecuteTime": {
     "end_time": "2020-12-18T02:56:41.280698Z",
     "start_time": "2020-12-18T02:56:41.244795Z"
    }
   },
   "outputs": [
    {
     "data": {
      "text/html": [
       "<div>\n",
       "<style scoped>\n",
       "    .dataframe tbody tr th:only-of-type {\n",
       "        vertical-align: middle;\n",
       "    }\n",
       "\n",
       "    .dataframe tbody tr th {\n",
       "        vertical-align: top;\n",
       "    }\n",
       "\n",
       "    .dataframe thead th {\n",
       "        text-align: right;\n",
       "    }\n",
       "</style>\n",
       "<table border=\"1\" class=\"dataframe\">\n",
       "  <thead>\n",
       "    <tr style=\"text-align: right;\">\n",
       "      <th></th>\n",
       "      <th>count</th>\n",
       "      <th>date</th>\n",
       "    </tr>\n",
       "  </thead>\n",
       "  <tbody>\n",
       "    <tr>\n",
       "      <th>115</th>\n",
       "      <td>1</td>\n",
       "      <td>2017-05-03</td>\n",
       "    </tr>\n",
       "    <tr>\n",
       "      <th>116</th>\n",
       "      <td>1</td>\n",
       "      <td>2017-05-05</td>\n",
       "    </tr>\n",
       "    <tr>\n",
       "      <th>117</th>\n",
       "      <td>1</td>\n",
       "      <td>2017-05-06</td>\n",
       "    </tr>\n",
       "    <tr>\n",
       "      <th>118</th>\n",
       "      <td>1</td>\n",
       "      <td>2017-05-11</td>\n",
       "    </tr>\n",
       "    <tr>\n",
       "      <th>119</th>\n",
       "      <td>1</td>\n",
       "      <td>2017-05-13</td>\n",
       "    </tr>\n",
       "    <tr>\n",
       "      <th>...</th>\n",
       "      <td>...</td>\n",
       "      <td>...</td>\n",
       "    </tr>\n",
       "    <tr>\n",
       "      <th>493</th>\n",
       "      <td>1</td>\n",
       "      <td>2020-07-27</td>\n",
       "    </tr>\n",
       "    <tr>\n",
       "      <th>494</th>\n",
       "      <td>1</td>\n",
       "      <td>2020-07-28</td>\n",
       "    </tr>\n",
       "    <tr>\n",
       "      <th>495</th>\n",
       "      <td>1</td>\n",
       "      <td>2020-07-29</td>\n",
       "    </tr>\n",
       "    <tr>\n",
       "      <th>496</th>\n",
       "      <td>1</td>\n",
       "      <td>2020-07-30</td>\n",
       "    </tr>\n",
       "    <tr>\n",
       "      <th>497</th>\n",
       "      <td>1</td>\n",
       "      <td>2020-08-01</td>\n",
       "    </tr>\n",
       "  </tbody>\n",
       "</table>\n",
       "<p>383 rows × 2 columns</p>\n",
       "</div>"
      ],
      "text/plain": [
       "    count       date\n",
       "115     1 2017-05-03\n",
       "116     1 2017-05-05\n",
       "117     1 2017-05-06\n",
       "118     1 2017-05-11\n",
       "119     1 2017-05-13\n",
       "..    ...        ...\n",
       "493     1 2020-07-27\n",
       "494     1 2020-07-28\n",
       "495     1 2020-07-29\n",
       "496     1 2020-07-30\n",
       "497     1 2020-08-01\n",
       "\n",
       "[383 rows x 2 columns]"
      ]
     },
     "execution_count": 259,
     "metadata": {},
     "output_type": "execute_result"
    }
   ],
   "source": [
    "df2"
   ]
  },
  {
   "cell_type": "markdown",
   "metadata": {},
   "source": []
  },
  {
   "cell_type": "code",
   "execution_count": null,
   "metadata": {
    "ExecuteTime": {
     "end_time": "2020-12-18T02:06:21.987006Z",
     "start_time": "2020-12-18T02:06:21.973043Z"
    }
   },
   "outputs": [],
   "source": []
  },
  {
   "cell_type": "code",
   "execution_count": 260,
   "metadata": {
    "ExecuteTime": {
     "end_time": "2020-12-18T02:56:42.789074Z",
     "start_time": "2020-12-18T02:56:42.775113Z"
    }
   },
   "outputs": [
    {
     "data": {
      "text/plain": [
       "DatetimeIndex(['2017-05-01', '2019-06-30', '2019-07-01', '2019-07-31',\n",
       "               '2019-08-01', '2019-09-01', '2019-09-02', '2019-09-30',\n",
       "               '2019-10-01', '2020-01-06', '2020-01-31', '2020-02-01',\n",
       "               '2020-03-01', '2020-04-01', '2020-04-01', '2020-05-01',\n",
       "               '2020-05-01', '2020-05-28', '2020-06-01', '2020-06-01',\n",
       "               '2020-07-01', '2020-07-01', '2020-08-01', '2020-08-01'],\n",
       "              dtype='datetime64[ns]', freq=None)"
      ]
     },
     "execution_count": 260,
     "metadata": {},
     "output_type": "execute_result"
    }
   ],
   "source": [
    "datearray"
   ]
  },
  {
   "cell_type": "code",
   "execution_count": null,
   "metadata": {},
   "outputs": [],
   "source": []
  },
  {
   "cell_type": "markdown",
   "metadata": {
    "ExecuteTime": {
     "end_time": "2020-12-18T02:07:19.167844Z",
     "start_time": "2020-12-18T02:07:19.146898Z"
    }
   },
   "source": [
    "# SPECIAL SALE READ DATABASE"
   ]
  },
  {
   "cell_type": "code",
   "execution_count": 278,
   "metadata": {
    "ExecuteTime": {
     "end_time": "2020-12-18T03:03:00.632103Z",
     "start_time": "2020-12-18T03:03:00.620137Z"
    }
   },
   "outputs": [],
   "source": [
    "def specialSale(pid,sid):\n",
    "    \n",
    "    SPECIAL_SALE_Q = \"\"\"\n",
    "\n",
    "    WITH\n",
    "        prodcut_id AS (VALUES ('{0}')),\n",
    "        store_id AS (VALUES ('{1}'))\n",
    "\n",
    "    select  \n",
    "           --ts.商品コード,\n",
    "           to_date(tk.販売開始日,'YYYYMMDD') as 販売開始日,\n",
    "           to_date(tk.販売終了日,'YYYYMMDD') as 販売終了日\n",
    "\n",
    "            --,abs(DATE_PART('day', to_date(tk.納品終了日,'YYYYMMDD')::timestamp - to_date(tk.納品開始日,'YYYYMMDD')::timestamp)) as days\n",
    "           from 特売商品 ts,特売企画 tk\n",
    "           where ts.店舗コード = (table store_id)\n",
    "           and ts.商品コード in (select 商品コード\tfrom 発注勧告商品補助\twhere 店舗コード = (table store_id) and 削除フラグ='0'\tand 自動発注区分='2' )\n",
    "           and ts.店舗コード = tk.店舗コード\n",
    "           and ts.特売企画コード = tk.特売企画コード\n",
    "           and tk.削除フラグ='0'\n",
    "           and tk.ＥＯＳ区分='1'\n",
    "           and ts.削除フラグ='0'\n",
    "           and ts.停止フラグ='0'\n",
    "\n",
    "           and \n",
    "\t       abs(DATE_PART('day', to_date(tk.販売終了日,'YYYYMMDD')::timestamp - to_date(tk.販売開始日,'YYYYMMDD')::timestamp))<=7           and \n",
    "            (tk.特売種別<>'1' and tk.特売種別<>'2')\n",
    "\n",
    "\n",
    "           and 商品コード in ((table prodcut_id))\n",
    "           order by  ts.商品コード,tk.販売開始日\n",
    "\n",
    "    \"\"\".format(pid,sid)\n",
    "\n",
    "    return SPECIAL_SALE_Q"
   ]
  },
  {
   "cell_type": "code",
   "execution_count": 279,
   "metadata": {
    "ExecuteTime": {
     "end_time": "2020-12-18T03:03:01.431965Z",
     "start_time": "2020-12-18T03:03:01.412019Z"
    }
   },
   "outputs": [],
   "source": [
    "import sys\n",
    "import psycopg2\n",
    "import pandas as pd\n",
    "\n",
    "\n",
    "product_list =[]\n",
    "DEBUG = True\n",
    "\n",
    "\n",
    "\n",
    "\n",
    "def connectSpecialSale(product_list  = None,_path=None,shop_id = ''):\n",
    "    mydataframe = pd.DataFrame()\n",
    "    for product_id in product_list:\n",
    "        conn = None\n",
    " \n",
    "\n",
    "        try:\n",
    "            if DEBUG ==True:\n",
    "                print('Connecting to PostgreSql database...')\n",
    "\n",
    "\n",
    "            conn = psycopg2.connect(host='172.16.3.28' ,dbname=\"920088\", user=\"kenpin\", password=\"kenpin\")\n",
    "            \n",
    "            \n",
    "            cur = conn.cursor()\n",
    "\n",
    "\n",
    "            if DEBUG ==True:\n",
    "                print('PostgreSQL database vestion:')\n",
    "\n",
    "\n",
    "            cur.execute(specialSale(pid=product_id,sid=shop_id))\n",
    "            data = cur.fetchone()\n",
    "\n",
    "            strline = \"\"\n",
    "            while data is not None:\n",
    "                \n",
    "                new_row = {'datestart':data[0],'dateend':data[1]}\n",
    "                mydataframe = mydataframe.append(new_row, ignore_index=True)\n",
    "                \n",
    "                data = cur.fetchone()\n",
    "\n",
    "            cur.close()\n",
    "\n",
    "\n",
    "        except (Exception ,psycopg2.DatabaseError) as error:\n",
    "            print(error)\n",
    "        finally:\n",
    "            if conn is not None:\n",
    "                conn.close()\n",
    "\n",
    "                print('DB CLOSED')\n",
    "                \n",
    "        return mydataframe"
   ]
  },
  {
   "cell_type": "code",
   "execution_count": 280,
   "metadata": {
    "ExecuteTime": {
     "end_time": "2020-12-18T03:03:02.110465Z",
     "start_time": "2020-12-18T03:03:01.661374Z"
    }
   },
   "outputs": [
    {
     "name": "stdout",
     "output_type": "stream",
     "text": [
      "Connecting to PostgreSql database...\n",
      "PostgreSQL database vestion:\n",
      "DB CLOSED\n"
     ]
    }
   ],
   "source": [
    "dd2 = connectSpecialSale(product_list  = [product_id],_path=None,shop_id = shop_id)"
   ]
  },
  {
   "cell_type": "code",
   "execution_count": 281,
   "metadata": {
    "ExecuteTime": {
     "end_time": "2020-12-18T03:03:02.274027Z",
     "start_time": "2020-12-18T03:03:02.229147Z"
    },
    "scrolled": true
   },
   "outputs": [
    {
     "data": {
      "text/html": [
       "<div>\n",
       "<style scoped>\n",
       "    .dataframe tbody tr th:only-of-type {\n",
       "        vertical-align: middle;\n",
       "    }\n",
       "\n",
       "    .dataframe tbody tr th {\n",
       "        vertical-align: top;\n",
       "    }\n",
       "\n",
       "    .dataframe thead th {\n",
       "        text-align: right;\n",
       "    }\n",
       "</style>\n",
       "<table border=\"1\" class=\"dataframe\">\n",
       "  <thead>\n",
       "    <tr style=\"text-align: right;\">\n",
       "      <th></th>\n",
       "      <th>dateend</th>\n",
       "      <th>datestart</th>\n",
       "    </tr>\n",
       "  </thead>\n",
       "  <tbody>\n",
       "    <tr>\n",
       "      <th>0</th>\n",
       "      <td>2019-07-21</td>\n",
       "      <td>2019-07-15</td>\n",
       "    </tr>\n",
       "    <tr>\n",
       "      <th>1</th>\n",
       "      <td>2019-08-04</td>\n",
       "      <td>2019-07-29</td>\n",
       "    </tr>\n",
       "    <tr>\n",
       "      <th>2</th>\n",
       "      <td>2019-08-18</td>\n",
       "      <td>2019-08-12</td>\n",
       "    </tr>\n",
       "    <tr>\n",
       "      <th>3</th>\n",
       "      <td>2019-09-01</td>\n",
       "      <td>2019-08-26</td>\n",
       "    </tr>\n",
       "    <tr>\n",
       "      <th>4</th>\n",
       "      <td>2019-09-08</td>\n",
       "      <td>2019-09-02</td>\n",
       "    </tr>\n",
       "    <tr>\n",
       "      <th>5</th>\n",
       "      <td>2019-09-22</td>\n",
       "      <td>2019-09-16</td>\n",
       "    </tr>\n",
       "    <tr>\n",
       "      <th>6</th>\n",
       "      <td>2019-10-06</td>\n",
       "      <td>2019-09-30</td>\n",
       "    </tr>\n",
       "    <tr>\n",
       "      <th>7</th>\n",
       "      <td>2019-10-20</td>\n",
       "      <td>2019-10-14</td>\n",
       "    </tr>\n",
       "    <tr>\n",
       "      <th>8</th>\n",
       "      <td>2019-10-27</td>\n",
       "      <td>2019-10-21</td>\n",
       "    </tr>\n",
       "    <tr>\n",
       "      <th>9</th>\n",
       "      <td>2019-11-03</td>\n",
       "      <td>2019-10-28</td>\n",
       "    </tr>\n",
       "    <tr>\n",
       "      <th>10</th>\n",
       "      <td>2019-11-10</td>\n",
       "      <td>2019-11-04</td>\n",
       "    </tr>\n",
       "    <tr>\n",
       "      <th>11</th>\n",
       "      <td>2019-12-08</td>\n",
       "      <td>2019-12-02</td>\n",
       "    </tr>\n",
       "    <tr>\n",
       "      <th>12</th>\n",
       "      <td>2020-01-12</td>\n",
       "      <td>2020-01-06</td>\n",
       "    </tr>\n",
       "    <tr>\n",
       "      <th>13</th>\n",
       "      <td>2020-02-02</td>\n",
       "      <td>2020-01-27</td>\n",
       "    </tr>\n",
       "    <tr>\n",
       "      <th>14</th>\n",
       "      <td>2020-02-09</td>\n",
       "      <td>2020-02-03</td>\n",
       "    </tr>\n",
       "    <tr>\n",
       "      <th>15</th>\n",
       "      <td>2020-03-08</td>\n",
       "      <td>2020-03-02</td>\n",
       "    </tr>\n",
       "    <tr>\n",
       "      <th>16</th>\n",
       "      <td>2020-04-05</td>\n",
       "      <td>2020-03-30</td>\n",
       "    </tr>\n",
       "    <tr>\n",
       "      <th>17</th>\n",
       "      <td>2020-05-10</td>\n",
       "      <td>2020-05-04</td>\n",
       "    </tr>\n",
       "    <tr>\n",
       "      <th>18</th>\n",
       "      <td>2020-06-07</td>\n",
       "      <td>2020-06-01</td>\n",
       "    </tr>\n",
       "    <tr>\n",
       "      <th>19</th>\n",
       "      <td>2020-07-05</td>\n",
       "      <td>2020-06-29</td>\n",
       "    </tr>\n",
       "    <tr>\n",
       "      <th>20</th>\n",
       "      <td>2020-07-26</td>\n",
       "      <td>2020-07-20</td>\n",
       "    </tr>\n",
       "    <tr>\n",
       "      <th>21</th>\n",
       "      <td>2020-08-09</td>\n",
       "      <td>2020-08-03</td>\n",
       "    </tr>\n",
       "  </tbody>\n",
       "</table>\n",
       "</div>"
      ],
      "text/plain": [
       "       dateend   datestart\n",
       "0   2019-07-21  2019-07-15\n",
       "1   2019-08-04  2019-07-29\n",
       "2   2019-08-18  2019-08-12\n",
       "3   2019-09-01  2019-08-26\n",
       "4   2019-09-08  2019-09-02\n",
       "5   2019-09-22  2019-09-16\n",
       "6   2019-10-06  2019-09-30\n",
       "7   2019-10-20  2019-10-14\n",
       "8   2019-10-27  2019-10-21\n",
       "9   2019-11-03  2019-10-28\n",
       "10  2019-11-10  2019-11-04\n",
       "11  2019-12-08  2019-12-02\n",
       "12  2020-01-12  2020-01-06\n",
       "13  2020-02-02  2020-01-27\n",
       "14  2020-02-09  2020-02-03\n",
       "15  2020-03-08  2020-03-02\n",
       "16  2020-04-05  2020-03-30\n",
       "17  2020-05-10  2020-05-04\n",
       "18  2020-06-07  2020-06-01\n",
       "19  2020-07-05  2020-06-29\n",
       "20  2020-07-26  2020-07-20\n",
       "21  2020-08-09  2020-08-03"
      ]
     },
     "execution_count": 281,
     "metadata": {},
     "output_type": "execute_result"
    }
   ],
   "source": [
    "dd2"
   ]
  },
  {
   "cell_type": "markdown",
   "metadata": {},
   "source": [
    "## make special sale start to end date all 1 ,and other dates to 0"
   ]
  },
  {
   "cell_type": "code",
   "execution_count": null,
   "metadata": {
    "ExecuteTime": {
     "end_time": "2020-12-18T02:33:58.698097Z",
     "start_time": "2020-12-18T02:33:58.692114Z"
    }
   },
   "outputs": [],
   "source": []
  },
  {
   "cell_type": "code",
   "execution_count": 282,
   "metadata": {
    "ExecuteTime": {
     "end_time": "2020-12-18T03:03:04.146725Z",
     "start_time": "2020-12-18T03:03:04.105834Z"
    }
   },
   "outputs": [],
   "source": [
    "special_datelist = set()\n",
    "for index,row in dd2.iterrows():\n",
    "    #print(row['datestart'],row['dateend'])\n",
    "    datelist = pd.date_range(start=row['datestart'], end=row['dateend'])\n",
    "    \n",
    "    \n",
    "    for a in datelist:\n",
    "        special_datelist.add(str(a.date()))\n",
    "    #print(temp)\n",
    "    # date list from start sale date to end sale date\n",
    "    # will sate to 1 for each\n",
    "    #special_datelist.extend(temp)\n",
    "    \n",
    "    #print(datelist)"
   ]
  },
  {
   "cell_type": "code",
   "execution_count": null,
   "metadata": {
    "ExecuteTime": {
     "end_time": "2020-12-18T02:50:31.043320Z",
     "start_time": "2020-12-18T02:50:31.007417Z"
    }
   },
   "outputs": [],
   "source": []
  },
  {
   "cell_type": "code",
   "execution_count": 283,
   "metadata": {
    "ExecuteTime": {
     "end_time": "2020-12-18T03:03:05.183128Z",
     "start_time": "2020-12-18T03:03:05.177148Z"
    }
   },
   "outputs": [],
   "source": [
    "# special_datelist"
   ]
  },
  {
   "cell_type": "code",
   "execution_count": 284,
   "metadata": {
    "ExecuteTime": {
     "end_time": "2020-12-18T03:03:05.816435Z",
     "start_time": "2020-12-18T03:03:05.779533Z"
    }
   },
   "outputs": [],
   "source": [
    "\n",
    "\n",
    "datelist = pd.date_range(start='2017/5/1', end='2020/9/1')\n",
    "\n",
    "dataarray = []\n",
    "\n",
    "\n",
    "for a in datelist:\n",
    "    if str(a.date()) in special_datelist:\n",
    "#         print(1)\n",
    "        dataarray.append({'date': str(a.date()), 'spflag': 1})\n",
    "    else:\n",
    "        \n",
    "        dataarray.append({'date': str(a.date()), 'spflag': 0})\n",
    "\n",
    "\n",
    "# print(dataarray)"
   ]
  },
  {
   "cell_type": "code",
   "execution_count": 285,
   "metadata": {
    "ExecuteTime": {
     "end_time": "2020-12-18T03:03:06.446761Z",
     "start_time": "2020-12-18T03:03:06.429806Z"
    }
   },
   "outputs": [],
   "source": [
    "df_sp = pd.DataFrame(dataarray)"
   ]
  },
  {
   "cell_type": "code",
   "execution_count": 286,
   "metadata": {
    "ExecuteTime": {
     "end_time": "2020-12-18T03:03:06.900549Z",
     "start_time": "2020-12-18T03:03:06.885588Z"
    }
   },
   "outputs": [],
   "source": [
    "df_sp['date'] = pd.to_datetime(df_sp['date'])"
   ]
  },
  {
   "cell_type": "code",
   "execution_count": 287,
   "metadata": {
    "ExecuteTime": {
     "end_time": "2020-12-18T03:03:07.222710Z",
     "start_time": "2020-12-18T03:03:07.184811Z"
    }
   },
   "outputs": [
    {
     "data": {
      "text/html": [
       "<div>\n",
       "<style scoped>\n",
       "    .dataframe tbody tr th:only-of-type {\n",
       "        vertical-align: middle;\n",
       "    }\n",
       "\n",
       "    .dataframe tbody tr th {\n",
       "        vertical-align: top;\n",
       "    }\n",
       "\n",
       "    .dataframe thead th {\n",
       "        text-align: right;\n",
       "    }\n",
       "</style>\n",
       "<table border=\"1\" class=\"dataframe\">\n",
       "  <thead>\n",
       "    <tr style=\"text-align: right;\">\n",
       "      <th></th>\n",
       "      <th>date</th>\n",
       "      <th>spflag</th>\n",
       "    </tr>\n",
       "  </thead>\n",
       "  <tbody>\n",
       "    <tr>\n",
       "      <th>0</th>\n",
       "      <td>2017-05-01</td>\n",
       "      <td>0</td>\n",
       "    </tr>\n",
       "    <tr>\n",
       "      <th>1</th>\n",
       "      <td>2017-05-02</td>\n",
       "      <td>0</td>\n",
       "    </tr>\n",
       "    <tr>\n",
       "      <th>2</th>\n",
       "      <td>2017-05-03</td>\n",
       "      <td>0</td>\n",
       "    </tr>\n",
       "    <tr>\n",
       "      <th>3</th>\n",
       "      <td>2017-05-04</td>\n",
       "      <td>0</td>\n",
       "    </tr>\n",
       "    <tr>\n",
       "      <th>4</th>\n",
       "      <td>2017-05-05</td>\n",
       "      <td>0</td>\n",
       "    </tr>\n",
       "    <tr>\n",
       "      <th>...</th>\n",
       "      <td>...</td>\n",
       "      <td>...</td>\n",
       "    </tr>\n",
       "    <tr>\n",
       "      <th>1215</th>\n",
       "      <td>2020-08-28</td>\n",
       "      <td>0</td>\n",
       "    </tr>\n",
       "    <tr>\n",
       "      <th>1216</th>\n",
       "      <td>2020-08-29</td>\n",
       "      <td>0</td>\n",
       "    </tr>\n",
       "    <tr>\n",
       "      <th>1217</th>\n",
       "      <td>2020-08-30</td>\n",
       "      <td>0</td>\n",
       "    </tr>\n",
       "    <tr>\n",
       "      <th>1218</th>\n",
       "      <td>2020-08-31</td>\n",
       "      <td>0</td>\n",
       "    </tr>\n",
       "    <tr>\n",
       "      <th>1219</th>\n",
       "      <td>2020-09-01</td>\n",
       "      <td>0</td>\n",
       "    </tr>\n",
       "  </tbody>\n",
       "</table>\n",
       "<p>1220 rows × 2 columns</p>\n",
       "</div>"
      ],
      "text/plain": [
       "           date  spflag\n",
       "0    2017-05-01       0\n",
       "1    2017-05-02       0\n",
       "2    2017-05-03       0\n",
       "3    2017-05-04       0\n",
       "4    2017-05-05       0\n",
       "...         ...     ...\n",
       "1215 2020-08-28       0\n",
       "1216 2020-08-29       0\n",
       "1217 2020-08-30       0\n",
       "1218 2020-08-31       0\n",
       "1219 2020-09-01       0\n",
       "\n",
       "[1220 rows x 2 columns]"
      ]
     },
     "execution_count": 287,
     "metadata": {},
     "output_type": "execute_result"
    }
   ],
   "source": [
    "df_sp"
   ]
  },
  {
   "cell_type": "code",
   "execution_count": 288,
   "metadata": {
    "ExecuteTime": {
     "end_time": "2020-12-18T03:03:07.454091Z",
     "start_time": "2020-12-18T03:03:07.433148Z"
    }
   },
   "outputs": [],
   "source": [
    " tograph = pd.merge(df_sp,df2,how='left',left_on=['date'],right_on=['date']) "
   ]
  },
  {
   "cell_type": "code",
   "execution_count": 289,
   "metadata": {
    "ExecuteTime": {
     "end_time": "2020-12-18T03:03:08.101361Z",
     "start_time": "2020-12-18T03:03:08.054487Z"
    }
   },
   "outputs": [
    {
     "data": {
      "text/html": [
       "<div>\n",
       "<style scoped>\n",
       "    .dataframe tbody tr th:only-of-type {\n",
       "        vertical-align: middle;\n",
       "    }\n",
       "\n",
       "    .dataframe tbody tr th {\n",
       "        vertical-align: top;\n",
       "    }\n",
       "\n",
       "    .dataframe thead th {\n",
       "        text-align: right;\n",
       "    }\n",
       "</style>\n",
       "<table border=\"1\" class=\"dataframe\">\n",
       "  <thead>\n",
       "    <tr style=\"text-align: right;\">\n",
       "      <th></th>\n",
       "      <th>date</th>\n",
       "      <th>spflag</th>\n",
       "      <th>count</th>\n",
       "    </tr>\n",
       "  </thead>\n",
       "  <tbody>\n",
       "    <tr>\n",
       "      <th>0</th>\n",
       "      <td>2017-05-01</td>\n",
       "      <td>0</td>\n",
       "      <td>NaN</td>\n",
       "    </tr>\n",
       "    <tr>\n",
       "      <th>1</th>\n",
       "      <td>2017-05-02</td>\n",
       "      <td>0</td>\n",
       "      <td>NaN</td>\n",
       "    </tr>\n",
       "    <tr>\n",
       "      <th>2</th>\n",
       "      <td>2017-05-03</td>\n",
       "      <td>0</td>\n",
       "      <td>1</td>\n",
       "    </tr>\n",
       "    <tr>\n",
       "      <th>3</th>\n",
       "      <td>2017-05-04</td>\n",
       "      <td>0</td>\n",
       "      <td>NaN</td>\n",
       "    </tr>\n",
       "    <tr>\n",
       "      <th>4</th>\n",
       "      <td>2017-05-05</td>\n",
       "      <td>0</td>\n",
       "      <td>1</td>\n",
       "    </tr>\n",
       "    <tr>\n",
       "      <th>...</th>\n",
       "      <td>...</td>\n",
       "      <td>...</td>\n",
       "      <td>...</td>\n",
       "    </tr>\n",
       "    <tr>\n",
       "      <th>1215</th>\n",
       "      <td>2020-08-28</td>\n",
       "      <td>0</td>\n",
       "      <td>NaN</td>\n",
       "    </tr>\n",
       "    <tr>\n",
       "      <th>1216</th>\n",
       "      <td>2020-08-29</td>\n",
       "      <td>0</td>\n",
       "      <td>NaN</td>\n",
       "    </tr>\n",
       "    <tr>\n",
       "      <th>1217</th>\n",
       "      <td>2020-08-30</td>\n",
       "      <td>0</td>\n",
       "      <td>NaN</td>\n",
       "    </tr>\n",
       "    <tr>\n",
       "      <th>1218</th>\n",
       "      <td>2020-08-31</td>\n",
       "      <td>0</td>\n",
       "      <td>NaN</td>\n",
       "    </tr>\n",
       "    <tr>\n",
       "      <th>1219</th>\n",
       "      <td>2020-09-01</td>\n",
       "      <td>0</td>\n",
       "      <td>NaN</td>\n",
       "    </tr>\n",
       "  </tbody>\n",
       "</table>\n",
       "<p>1220 rows × 3 columns</p>\n",
       "</div>"
      ],
      "text/plain": [
       "           date  spflag count\n",
       "0    2017-05-01       0   NaN\n",
       "1    2017-05-02       0   NaN\n",
       "2    2017-05-03       0     1\n",
       "3    2017-05-04       0   NaN\n",
       "4    2017-05-05       0     1\n",
       "...         ...     ...   ...\n",
       "1215 2020-08-28       0   NaN\n",
       "1216 2020-08-29       0   NaN\n",
       "1217 2020-08-30       0   NaN\n",
       "1218 2020-08-31       0   NaN\n",
       "1219 2020-09-01       0   NaN\n",
       "\n",
       "[1220 rows x 3 columns]"
      ]
     },
     "execution_count": 289,
     "metadata": {},
     "output_type": "execute_result"
    }
   ],
   "source": [
    "tograph"
   ]
  },
  {
   "cell_type": "code",
   "execution_count": 290,
   "metadata": {
    "ExecuteTime": {
     "end_time": "2020-12-18T03:03:08.637935Z",
     "start_time": "2020-12-18T03:03:08.624970Z"
    }
   },
   "outputs": [],
   "source": [
    "tograph['count'] =tograph['count'].fillna(0)"
   ]
  },
  {
   "cell_type": "code",
   "execution_count": 291,
   "metadata": {
    "ExecuteTime": {
     "end_time": "2020-12-18T03:03:09.175520Z",
     "start_time": "2020-12-18T03:03:09.134631Z"
    }
   },
   "outputs": [
    {
     "data": {
      "text/html": [
       "<div>\n",
       "<style scoped>\n",
       "    .dataframe tbody tr th:only-of-type {\n",
       "        vertical-align: middle;\n",
       "    }\n",
       "\n",
       "    .dataframe tbody tr th {\n",
       "        vertical-align: top;\n",
       "    }\n",
       "\n",
       "    .dataframe thead th {\n",
       "        text-align: right;\n",
       "    }\n",
       "</style>\n",
       "<table border=\"1\" class=\"dataframe\">\n",
       "  <thead>\n",
       "    <tr style=\"text-align: right;\">\n",
       "      <th></th>\n",
       "      <th>date</th>\n",
       "      <th>spflag</th>\n",
       "    </tr>\n",
       "  </thead>\n",
       "  <tbody>\n",
       "    <tr>\n",
       "      <th>805</th>\n",
       "      <td>2019-07-15</td>\n",
       "      <td>1</td>\n",
       "    </tr>\n",
       "    <tr>\n",
       "      <th>806</th>\n",
       "      <td>2019-07-16</td>\n",
       "      <td>1</td>\n",
       "    </tr>\n",
       "    <tr>\n",
       "      <th>807</th>\n",
       "      <td>2019-07-17</td>\n",
       "      <td>1</td>\n",
       "    </tr>\n",
       "    <tr>\n",
       "      <th>808</th>\n",
       "      <td>2019-07-18</td>\n",
       "      <td>1</td>\n",
       "    </tr>\n",
       "    <tr>\n",
       "      <th>809</th>\n",
       "      <td>2019-07-19</td>\n",
       "      <td>1</td>\n",
       "    </tr>\n",
       "    <tr>\n",
       "      <th>...</th>\n",
       "      <td>...</td>\n",
       "      <td>...</td>\n",
       "    </tr>\n",
       "    <tr>\n",
       "      <th>1192</th>\n",
       "      <td>2020-08-05</td>\n",
       "      <td>1</td>\n",
       "    </tr>\n",
       "    <tr>\n",
       "      <th>1193</th>\n",
       "      <td>2020-08-06</td>\n",
       "      <td>1</td>\n",
       "    </tr>\n",
       "    <tr>\n",
       "      <th>1194</th>\n",
       "      <td>2020-08-07</td>\n",
       "      <td>1</td>\n",
       "    </tr>\n",
       "    <tr>\n",
       "      <th>1195</th>\n",
       "      <td>2020-08-08</td>\n",
       "      <td>1</td>\n",
       "    </tr>\n",
       "    <tr>\n",
       "      <th>1196</th>\n",
       "      <td>2020-08-09</td>\n",
       "      <td>1</td>\n",
       "    </tr>\n",
       "  </tbody>\n",
       "</table>\n",
       "<p>154 rows × 2 columns</p>\n",
       "</div>"
      ],
      "text/plain": [
       "           date  spflag\n",
       "805  2019-07-15       1\n",
       "806  2019-07-16       1\n",
       "807  2019-07-17       1\n",
       "808  2019-07-18       1\n",
       "809  2019-07-19       1\n",
       "...         ...     ...\n",
       "1192 2020-08-05       1\n",
       "1193 2020-08-06       1\n",
       "1194 2020-08-07       1\n",
       "1195 2020-08-08       1\n",
       "1196 2020-08-09       1\n",
       "\n",
       "[154 rows x 2 columns]"
      ]
     },
     "execution_count": 291,
     "metadata": {},
     "output_type": "execute_result"
    }
   ],
   "source": [
    "df_sp[df_sp['spflag']>0] "
   ]
  },
  {
   "cell_type": "code",
   "execution_count": null,
   "metadata": {
    "ExecuteTime": {
     "end_time": "2020-12-18T02:14:38.396373Z",
     "start_time": "2020-12-18T02:14:38.146042Z"
    },
    "scrolled": true
   },
   "outputs": [],
   "source": []
  },
  {
   "cell_type": "code",
   "execution_count": null,
   "metadata": {
    "ExecuteTime": {
     "end_time": "2020-12-18T02:12:35.633403Z",
     "start_time": "2020-12-18T02:12:35.476822Z"
    }
   },
   "outputs": [],
   "source": []
  },
  {
   "cell_type": "code",
   "execution_count": 292,
   "metadata": {
    "ExecuteTime": {
     "end_time": "2020-12-18T03:03:10.927835Z",
     "start_time": "2020-12-18T03:03:10.917863Z"
    }
   },
   "outputs": [],
   "source": [
    "x = tograph['date']\n",
    "y= tograph['spflag']\n",
    "y2 = tograph['count']"
   ]
  },
  {
   "cell_type": "code",
   "execution_count": 293,
   "metadata": {
    "ExecuteTime": {
     "end_time": "2020-12-18T03:03:11.332756Z",
     "start_time": "2020-12-18T03:03:11.321783Z"
    }
   },
   "outputs": [],
   "source": [
    "%matplotlib qt"
   ]
  },
  {
   "cell_type": "code",
   "execution_count": 294,
   "metadata": {
    "ExecuteTime": {
     "end_time": "2020-12-18T03:03:11.988009Z",
     "start_time": "2020-12-18T03:03:11.740670Z"
    }
   },
   "outputs": [],
   "source": [
    "plt.figure()\n",
    "\n",
    "plt.plot(x, y)\n",
    "plt.plot(x, y2)\n",
    "plt.title('linear')\n",
    "plt.grid(True)"
   ]
  },
  {
   "cell_type": "code",
   "execution_count": null,
   "metadata": {
    "ExecuteTime": {
     "end_time": "2020-12-18T02:08:26.766616Z",
     "start_time": "2020-12-18T02:08:26.089431Z"
    }
   },
   "outputs": [],
   "source": []
  },
  {
   "cell_type": "code",
   "execution_count": null,
   "metadata": {},
   "outputs": [],
   "source": []
  }
 ],
 "metadata": {
  "kernelspec": {
   "display_name": "Python 3",
   "language": "python",
   "name": "python3"
  },
  "language_info": {
   "codemirror_mode": {
    "name": "ipython",
    "version": 3
   },
   "file_extension": ".py",
   "mimetype": "text/x-python",
   "name": "python",
   "nbconvert_exporter": "python",
   "pygments_lexer": "ipython3",
   "version": "3.8.5"
  }
 },
 "nbformat": 4,
 "nbformat_minor": 4
}
